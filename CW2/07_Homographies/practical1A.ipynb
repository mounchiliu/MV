{
 "cells": [
  {
   "cell_type": "markdown",
   "metadata": {},
   "source": [
    "# Practical 7 - Part 1A\n",
    "The aim of part 1A is to calculate the homography that best maps two sets of points to one another.  We will (eventually) use this for creating panoramas, and for calculating the 3D pose of planes.  You should use this\n",
    "template for your code and fill in the missing sections marked \"TO DO\"\n"
   ]
  },
  {
   "cell_type": "markdown",
   "metadata": {},
   "source": [
    "# Import libraries "
   ]
  },
  {
   "cell_type": "code",
   "execution_count": 1,
   "metadata": {},
   "outputs": [],
   "source": [
    "%matplotlib inline\n",
    "import os \n",
    "import numpy as np\n",
    "import matplotlib.pyplot as plt\n",
    "import scipy.io as sio"
   ]
  },
  {
   "cell_type": "markdown",
   "metadata": {},
   "source": [
    "# Define a set of 2D points, then apply a homography to them"
   ]
  },
  {
   "cell_type": "code",
   "execution_count": 2,
   "metadata": {},
   "outputs": [],
   "source": [
    "# Define a set of two-dimensional Cartesian points\n",
    "pts1Cart = np.array([[240.5000, 16.8351, 33.5890, 164.2696, 149.1911],\n",
    "                    [248.8770, 193.5890, 251.3901, 168.4581, 228.7723]])\n",
    "\n",
    "# Convert points into homogeneous representation\n",
    "pts1Hom = np.concatenate((pts1Cart, np.ones((1,pts1Cart.shape[1]))), axis=0)\n",
    "\n",
    "# Define a homography\n",
    "H = np.array([[0.6, 0.7, -100.],\n",
    "              [1.0, 0.6, 50.],\n",
    "              [0.001, 0.002, 1.0]])\n",
    "\n",
    "# Apply a homography to the points\n",
    "pts2Hom = np.matmul(H,pts1Hom)\n",
    "\n",
    "# Convert back to Cartesian coordinates\n",
    "pts2Cart = pts2Hom[0:2,:] / np.tile([pts2Hom[2,:]],(2,1))\n",
    "\n",
    "# Add a small amount of noise\n",
    "noiseLevel = 4.0\n",
    "pts2Cart = pts2Cart + np.random.normal(0, noiseLevel, pts2Cart.shape)"
   ]
  },
  {
   "cell_type": "markdown",
   "metadata": {},
   "source": [
    "# Plot the first (original) and  second (after applying the homography) set of points "
   ]
  },
  {
   "cell_type": "code",
   "execution_count": 3,
   "metadata": {},
   "outputs": [
    {
     "data": {
      "image/png": "[encoded data removed]",
      "text/plain": [
       "<Figure size 432x288 with 1 Axes>"
      ]
     },
     "metadata": {
      "needs_background": "light"
     },
     "output_type": "display_data"
    }
   ],
   "source": [
    "# Plot a green line between pairs of actual points (red) and estimated points (magenta)\n",
    "nPoint = pts1Cart.shape[1]\n",
    "for cPoint in range(0, nPoint):\n",
    "    plt.plot([pts1Cart[0,cPoint], pts2Cart[0,cPoint]], [pts1Cart[1,cPoint], pts2Cart[1,cPoint]],'g-')\n",
    "    plt.plot(pts1Cart[0,cPoint],pts1Cart[1,cPoint],'b.', pts2Cart[0,cPoint],pts2Cart[1,cPoint],'r.') \n",
    "\n",
    "plt.show()"
   ]
  },
  {
   "cell_type": "markdown",
   "metadata": {},
   "source": [
    "## Comments\n",
    "The red points are the corresponding results of projective transformation on defined Cartesian points which are labeled to blue. \n",
    "The green line shows the mapping from one point to the corresponding point. \n",
    "Furthermore, the mapping is done by multiplying the Homography matrix to the homogeneous representation of Cartesian points. Then the resulting homogeneous points are transformed back to Cartesian points. "
   ]
  },
  {
   "cell_type": "markdown",
   "metadata": {},
   "source": [
    "Now our goal is to estimate the homography that maps the first points to the second set of points.\n",
    "\n",
    "# ****TO DO****: Fill in the details of these routines (solveAXEqualsZero and calcBestHomography). "
   ]
  },
  {
   "cell_type": "code",
   "execution_count": 4,
   "metadata": {},
   "outputs": [],
   "source": [
    "def solveAXEqualsZero(A):\n",
    "    # TO DO: Write this routine - it should solve Ah = 0   \n",
    "    #Compute SVD of matrix A\n",
    "    u, s, vh = np.linalg.svd(A)\n",
    "    #set h to the last column of V\n",
    "    h = vh.T[:,-1]\n",
    "    return h"
   ]
  },
  {
   "cell_type": "code",
   "execution_count": 5,
   "metadata": {},
   "outputs": [],
   "source": [
    "# This function should apply the direct linear transform (DLT) algorithm to calculate the best \n",
    "# homography that maps the points in pts1Cart to their corresonding matching in pts2Cart\n",
    "def calcBestHomography(pts1Cart, pts2Cart):    \n",
    "    # TO DO: replace this\n",
    "    H = np.zeros([3,3])\n",
    "\n",
    "    # TO DO: \n",
    "    # First convert points into homogeneous representation\n",
    "    pts1Hom = np.concatenate((pts1Cart, np.ones((1,pts1Cart.shape[1]))), axis=0)\n",
    "    # Then construct the matrix A, size (n_points,9)  \n",
    "    #map from 2D -> 2D\n",
    "    n_points = pts1Cart.shape[1]\n",
    "    A = np.zeros([2*n_points,9])\n",
    "\n",
    "    #find the matrix relates to X\n",
    "    #pts2Cart - dxn\n",
    "    # value of x in the second coordinate system\n",
    "    coord2_X = np.tile(pts2Cart[0,:],(3,1)).T\n",
    "    # value of y in the second coordinate system\n",
    "    coord2_Y = np.tile(pts2Cart[1,:],(3,1)).T\n",
    "    \n",
    "    #concentrate the matrix\n",
    "    X = np.hstack((pts1Hom.T,np.zeros([n_points,3]),(coord2_X*(-pts1Hom.T))))\n",
    "    Y = np.hstack((np.zeros([n_points,3]),-pts1Hom.T,(coord2_Y*(pts1Hom.T))))\n",
    "    \n",
    "    for i in range(n_points):\n",
    "        indexRelates_y = 2*i\n",
    "        indexRelates_x = 2*i + 1\n",
    "        A[indexRelates_x] = X[i]\n",
    "        A[indexRelates_y] = Y[i]\n",
    "\n",
    "    # Solve Ah = 0\n",
    "    h = solveAXEqualsZero(A)\n",
    "    # Reshape h into the matrix H, values of h go first into rows of H\n",
    "    H = np.reshape(h,H.shape)\n",
    "    return H"
   ]
  },
  {
   "cell_type": "markdown",
   "metadata": {},
   "source": [
    "Once you have completed the two routines above, we will see how well they work by applying the mapping and measuring the square distance between the desired and actual positions"
   ]
  },
  {
   "cell_type": "code",
   "execution_count": 6,
   "metadata": {},
   "outputs": [
    {
     "data": {
      "image/png": "[encoded data removed]",
      "text/plain": [
       "<Figure size 432x288 with 1 Axes>"
      ]
     },
     "metadata": {
      "needs_background": "light"
     },
     "output_type": "display_data"
    }
   ],
   "source": [
    "# TO DO: Fill in the details of this function from above \n",
    "HEst = calcBestHomography(pts1Cart, pts2Cart)\n",
    "\n",
    "# Apply estimated homography to points\n",
    "pts2EstHom = np.matmul(HEst,pts1Hom)\n",
    "\n",
    "# Convert back to Cartesian coordinates\n",
    "pts2EstCart = pts2EstHom[0:2,:] / np.tile([pts2EstHom[2,:]],(2,1))\n",
    "\n",
    "# Calculate the mean squared distance from actual points\n",
    "sqDiff = np.mean(sum((pts2Cart - pts2EstCart)**2))\n",
    "\n",
    "# Draw figure with points before and after applying the estimated homography\n",
    "nPoint = pts1Cart.shape[1]\n",
    "\n",
    "# Plot a green line between pairs of actual points (red) and estimated points (magenta)\n",
    "for cPoint in range(0, nPoint):\n",
    "    plt.plot([pts2Cart[0,cPoint], pts2EstCart[0,cPoint]], [pts2Cart[1,cPoint], pts2EstCart[1,cPoint]],'g-')\n",
    "    plt.plot(pts2Cart[0,cPoint],pts2Cart[1,cPoint],'r.',pts2EstCart[0,cPoint],pts2EstCart[1,cPoint],'m.') \n",
    "\n",
    "plt.show()"
   ]
  },
  {
   "cell_type": "markdown",
   "metadata": {},
   "source": [
    "## Comments\n",
    "The Homography matrix that maps one set of points in one coordinate system to another set of points which are in another coordinate system is required to be found. The purple points are the estimated points of red points. The green line shows the distance between the estimated point and the ground truth point. The program find the best estimated Homography matrix by solving the equation of Ah = 0. The equation Ah=0 describes the transformation between the two sets of points. However,due to the added random noise, the estimated point may be not able to be recovered exactly. Here,only four pairs of points are used to find the best Homography matrix. However, more points may be required for more precise estimation when there is random noise.\n",
    "\n"
   ]
  },
  {
   "cell_type": "markdown",
   "metadata": {},
   "source": [
    "# Other things **** TO DO ****\n",
    "\n",
    "1: Convince yourself that the homography is ambiguous up to scale (by\n",
    "multiplying it by a constant factor and showing it does the same thing).\n",
    "Can you see why this is the case mathematically?\n",
    "\n",
    "2: Show empirically that your homography routine can map any four points exactly to any\n",
    "other four points"
   ]
  },
  {
   "cell_type": "markdown",
   "metadata": {},
   "source": [
    " ## Q1\n",
    " Adding a scale factor $\\lambda$ will not cause big change to the result.\n",
    " \n",
    " $\\lambda' \\begin{bmatrix}\n",
    "        x\\\\ \n",
    "        y\\\\ \n",
    "        1\n",
    "       \\end{bmatrix}\n",
    "       = \\lambda\n",
    "       \\begin{bmatrix}\n",
    "       \\phi_{11} & \\phi_{12} & \\phi_{13}\\\\ \n",
    "       \\phi_{21} & \\phi_{22} & \\phi_{23}\\\\ \n",
    "       \\phi_{31} & \\phi_{32} & \\phi_{33}\n",
    "       \\end{bmatrix}\n",
    "       \\begin{bmatrix}\n",
    "        u\\\\ \n",
    "        v\\\\ \n",
    "        1\n",
    "       \\end{bmatrix}$\n",
    " \n",
    " We have\n",
    " \n",
    " $x=\\frac{\\lambda(\\phi_{11}u+\\phi_{12}v+\\phi_{13})}{\\lambda(\\phi_{31}u+\\phi_{32}v+\\phi_{33})}$\n",
    " \n",
    " $ y=\\frac{\\lambda(\\phi_{21}u+\\phi_{22}v+\\phi_{23})}{\\lambda(\\phi_{31}u+\\phi_{32}v+\\phi_{33})}$\n",
    " \n",
    " The calculation is not sensitive to the scale because we need to eluminate the scale factor when we transform Homogeneous coordinates to Cartesian coordinates."
   ]
  },
  {
   "cell_type": "markdown",
   "metadata": {},
   "source": [
    "## Q2\n",
    "With only four points, the Homography routine can still map the points to correct location.\n",
    "The Homography matrix may be changed by multiplying by an non-zero scale factor without changing the projective transformation.  Therefore, the Homography matrix is a Homogeneous matrix.  In the Homogeneous representation of points, we only care about the ratio of the matrix elements. There are eight independent ratios in the Homography matrix. Then, the homography matrix has in fact 8 unknowns, which means we need a minimum of four pairs of points to build up a set of equations."
   ]
  }
 ],
 "metadata": {
  "kernelspec": {
   "display_name": "Python 3",
   "language": "python",
   "name": "python3"
  },
  "language_info": {
   "codemirror_mode": {
    "name": "ipython",
    "version": 3
   },
   "file_extension": ".py",
   "mimetype": "text/x-python",
   "name": "python",
   "nbconvert_exporter": "python",
   "pygments_lexer": "ipython3",
   "version": "3.7.0"
  }
 },
 "nbformat": 4,
 "nbformat_minor": 1
}
